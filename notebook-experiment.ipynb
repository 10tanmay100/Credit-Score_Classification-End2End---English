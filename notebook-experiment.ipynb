{
 "cells": [
  {
   "cell_type": "code",
   "execution_count": 1,
   "id": "102f8bca",
   "metadata": {},
   "outputs": [],
   "source": [
    "#importing libraries\n",
    "import pandas as pd\n",
    "import numpy as np\n",
    "import matplotlib.pyplot as plt\n",
    "import seaborn as sns\n",
    "from sklearn.model_selection import train_test_split"
   ]
  },
  {
   "cell_type": "code",
   "execution_count": 3,
   "id": "02bc101d",
   "metadata": {},
   "outputs": [
    {
     "name": "stderr",
     "output_type": "stream",
     "text": [
      "C:\\Users\\USER\\AppData\\Local\\Temp\\ipykernel_12904\\3275827671.py:2: DtypeWarning: Columns (26) have mixed types. Specify dtype option on import or set low_memory=False.\n",
      "  train_df=pd.read_csv(r\"E:\\YT\\CreditScore-English\\Dataset\\train.csv\")\n"
     ]
    },
    {
     "data": {
      "text/html": [
       "<div>\n",
       "<style scoped>\n",
       "    .dataframe tbody tr th:only-of-type {\n",
       "        vertical-align: middle;\n",
       "    }\n",
       "\n",
       "    .dataframe tbody tr th {\n",
       "        vertical-align: top;\n",
       "    }\n",
       "\n",
       "    .dataframe thead th {\n",
       "        text-align: right;\n",
       "    }\n",
       "</style>\n",
       "<table border=\"1\" class=\"dataframe\">\n",
       "  <thead>\n",
       "    <tr style=\"text-align: right;\">\n",
       "      <th></th>\n",
       "      <th>ID</th>\n",
       "      <th>Customer_ID</th>\n",
       "      <th>Month</th>\n",
       "      <th>Name</th>\n",
       "      <th>Age</th>\n",
       "      <th>SSN</th>\n",
       "      <th>Occupation</th>\n",
       "      <th>Annual_Income</th>\n",
       "      <th>Monthly_Inhand_Salary</th>\n",
       "      <th>Num_Bank_Accounts</th>\n",
       "      <th>...</th>\n",
       "      <th>Credit_Mix</th>\n",
       "      <th>Outstanding_Debt</th>\n",
       "      <th>Credit_Utilization_Ratio</th>\n",
       "      <th>Credit_History_Age</th>\n",
       "      <th>Payment_of_Min_Amount</th>\n",
       "      <th>Total_EMI_per_month</th>\n",
       "      <th>Amount_invested_monthly</th>\n",
       "      <th>Payment_Behaviour</th>\n",
       "      <th>Monthly_Balance</th>\n",
       "      <th>Credit_Score</th>\n",
       "    </tr>\n",
       "  </thead>\n",
       "  <tbody>\n",
       "    <tr>\n",
       "      <th>0</th>\n",
       "      <td>0x1602</td>\n",
       "      <td>CUS_0xd40</td>\n",
       "      <td>January</td>\n",
       "      <td>Aaron Maashoh</td>\n",
       "      <td>23</td>\n",
       "      <td>821-00-0265</td>\n",
       "      <td>Scientist</td>\n",
       "      <td>19114.12</td>\n",
       "      <td>1824.843333</td>\n",
       "      <td>3</td>\n",
       "      <td>...</td>\n",
       "      <td>_</td>\n",
       "      <td>809.98</td>\n",
       "      <td>26.822620</td>\n",
       "      <td>22 Years and 1 Months</td>\n",
       "      <td>No</td>\n",
       "      <td>49.574949</td>\n",
       "      <td>80.41529543900253</td>\n",
       "      <td>High_spent_Small_value_payments</td>\n",
       "      <td>312.49408867943663</td>\n",
       "      <td>Good</td>\n",
       "    </tr>\n",
       "    <tr>\n",
       "      <th>1</th>\n",
       "      <td>0x1603</td>\n",
       "      <td>CUS_0xd40</td>\n",
       "      <td>February</td>\n",
       "      <td>Aaron Maashoh</td>\n",
       "      <td>23</td>\n",
       "      <td>821-00-0265</td>\n",
       "      <td>Scientist</td>\n",
       "      <td>19114.12</td>\n",
       "      <td>NaN</td>\n",
       "      <td>3</td>\n",
       "      <td>...</td>\n",
       "      <td>Good</td>\n",
       "      <td>809.98</td>\n",
       "      <td>31.944960</td>\n",
       "      <td>NaN</td>\n",
       "      <td>No</td>\n",
       "      <td>49.574949</td>\n",
       "      <td>118.28022162236736</td>\n",
       "      <td>Low_spent_Large_value_payments</td>\n",
       "      <td>284.62916249607184</td>\n",
       "      <td>Good</td>\n",
       "    </tr>\n",
       "    <tr>\n",
       "      <th>2</th>\n",
       "      <td>0x1604</td>\n",
       "      <td>CUS_0xd40</td>\n",
       "      <td>March</td>\n",
       "      <td>Aaron Maashoh</td>\n",
       "      <td>-500</td>\n",
       "      <td>821-00-0265</td>\n",
       "      <td>Scientist</td>\n",
       "      <td>19114.12</td>\n",
       "      <td>NaN</td>\n",
       "      <td>3</td>\n",
       "      <td>...</td>\n",
       "      <td>Good</td>\n",
       "      <td>809.98</td>\n",
       "      <td>28.609352</td>\n",
       "      <td>22 Years and 3 Months</td>\n",
       "      <td>No</td>\n",
       "      <td>49.574949</td>\n",
       "      <td>81.699521264648</td>\n",
       "      <td>Low_spent_Medium_value_payments</td>\n",
       "      <td>331.2098628537912</td>\n",
       "      <td>Good</td>\n",
       "    </tr>\n",
       "    <tr>\n",
       "      <th>3</th>\n",
       "      <td>0x1605</td>\n",
       "      <td>CUS_0xd40</td>\n",
       "      <td>April</td>\n",
       "      <td>Aaron Maashoh</td>\n",
       "      <td>23</td>\n",
       "      <td>821-00-0265</td>\n",
       "      <td>Scientist</td>\n",
       "      <td>19114.12</td>\n",
       "      <td>NaN</td>\n",
       "      <td>3</td>\n",
       "      <td>...</td>\n",
       "      <td>Good</td>\n",
       "      <td>809.98</td>\n",
       "      <td>31.377862</td>\n",
       "      <td>22 Years and 4 Months</td>\n",
       "      <td>No</td>\n",
       "      <td>49.574949</td>\n",
       "      <td>199.4580743910713</td>\n",
       "      <td>Low_spent_Small_value_payments</td>\n",
       "      <td>223.45130972736786</td>\n",
       "      <td>Good</td>\n",
       "    </tr>\n",
       "    <tr>\n",
       "      <th>4</th>\n",
       "      <td>0x1606</td>\n",
       "      <td>CUS_0xd40</td>\n",
       "      <td>May</td>\n",
       "      <td>Aaron Maashoh</td>\n",
       "      <td>23</td>\n",
       "      <td>821-00-0265</td>\n",
       "      <td>Scientist</td>\n",
       "      <td>19114.12</td>\n",
       "      <td>1824.843333</td>\n",
       "      <td>3</td>\n",
       "      <td>...</td>\n",
       "      <td>Good</td>\n",
       "      <td>809.98</td>\n",
       "      <td>24.797347</td>\n",
       "      <td>22 Years and 5 Months</td>\n",
       "      <td>No</td>\n",
       "      <td>49.574949</td>\n",
       "      <td>41.420153086217326</td>\n",
       "      <td>High_spent_Medium_value_payments</td>\n",
       "      <td>341.48923103222177</td>\n",
       "      <td>Good</td>\n",
       "    </tr>\n",
       "  </tbody>\n",
       "</table>\n",
       "<p>5 rows × 28 columns</p>\n",
       "</div>"
      ],
      "text/plain": [
       "       ID Customer_ID     Month           Name   Age          SSN Occupation  \\\n",
       "0  0x1602   CUS_0xd40   January  Aaron Maashoh    23  821-00-0265  Scientist   \n",
       "1  0x1603   CUS_0xd40  February  Aaron Maashoh    23  821-00-0265  Scientist   \n",
       "2  0x1604   CUS_0xd40     March  Aaron Maashoh  -500  821-00-0265  Scientist   \n",
       "3  0x1605   CUS_0xd40     April  Aaron Maashoh    23  821-00-0265  Scientist   \n",
       "4  0x1606   CUS_0xd40       May  Aaron Maashoh    23  821-00-0265  Scientist   \n",
       "\n",
       "  Annual_Income  Monthly_Inhand_Salary  Num_Bank_Accounts  ...  Credit_Mix  \\\n",
       "0      19114.12            1824.843333                  3  ...           _   \n",
       "1      19114.12                    NaN                  3  ...        Good   \n",
       "2      19114.12                    NaN                  3  ...        Good   \n",
       "3      19114.12                    NaN                  3  ...        Good   \n",
       "4      19114.12            1824.843333                  3  ...        Good   \n",
       "\n",
       "   Outstanding_Debt Credit_Utilization_Ratio     Credit_History_Age  \\\n",
       "0            809.98                26.822620  22 Years and 1 Months   \n",
       "1            809.98                31.944960                    NaN   \n",
       "2            809.98                28.609352  22 Years and 3 Months   \n",
       "3            809.98                31.377862  22 Years and 4 Months   \n",
       "4            809.98                24.797347  22 Years and 5 Months   \n",
       "\n",
       "   Payment_of_Min_Amount Total_EMI_per_month Amount_invested_monthly  \\\n",
       "0                     No           49.574949       80.41529543900253   \n",
       "1                     No           49.574949      118.28022162236736   \n",
       "2                     No           49.574949         81.699521264648   \n",
       "3                     No           49.574949       199.4580743910713   \n",
       "4                     No           49.574949      41.420153086217326   \n",
       "\n",
       "                  Payment_Behaviour     Monthly_Balance Credit_Score  \n",
       "0   High_spent_Small_value_payments  312.49408867943663         Good  \n",
       "1    Low_spent_Large_value_payments  284.62916249607184         Good  \n",
       "2   Low_spent_Medium_value_payments   331.2098628537912         Good  \n",
       "3    Low_spent_Small_value_payments  223.45130972736786         Good  \n",
       "4  High_spent_Medium_value_payments  341.48923103222177         Good  \n",
       "\n",
       "[5 rows x 28 columns]"
      ]
     },
     "execution_count": 3,
     "metadata": {},
     "output_type": "execute_result"
    }
   ],
   "source": [
    "#readig the train dataset\n",
    "train_df=pd.read_csv(r\"E:\\YT\\CreditScore-English\\Dataset\\train.csv\")\n",
    "#printing head of it\n",
    "train_df.head()"
   ]
  },
  {
   "cell_type": "code",
   "execution_count": 2,
   "id": "3bde829f",
   "metadata": {},
   "outputs": [
    {
     "name": "stderr",
     "output_type": "stream",
     "text": [
      "Retrieving folder contents\n"
     ]
    },
    {
     "name": "stdout",
     "output_type": "stream",
     "text": [
      "Processing file 1UQDDnCvnXAXEihnft8YDPrWOjC3d7sW4 test.csv\n",
      "Processing file 1eOx2VSgskbvDxtJ6kn8Kw2H8RqLLD-Nm train.csv\n"
     ]
    },
    {
     "name": "stderr",
     "output_type": "stream",
     "text": [
      "Retrieving folder contents completed\n",
      "Building directory structure\n",
      "Building directory structure completed\n",
      "Downloading...\n",
      "From: https://drive.google.com/uc?id=1UQDDnCvnXAXEihnft8YDPrWOjC3d7sW4\n",
      "To: e:\\YT\\CreditScore-English\\Credit-Score_Classification-End2End---English\\code\\test.csv\n",
      "100%|██████████| 15.4M/15.4M [00:02<00:00, 5.39MB/s]\n",
      "Downloading...\n",
      "From: https://drive.google.com/uc?id=1eOx2VSgskbvDxtJ6kn8Kw2H8RqLLD-Nm\n",
      "To: e:\\YT\\CreditScore-English\\Credit-Score_Classification-End2End---English\\code\\train.csv\n",
      "100%|██████████| 31.1M/31.1M [00:04<00:00, 6.78MB/s]\n",
      "Download completed\n"
     ]
    },
    {
     "data": {
      "text/plain": [
       "['code/test.csv', 'code/train.csv']"
      ]
     },
     "execution_count": 2,
     "metadata": {},
     "output_type": "execute_result"
    }
   ],
   "source": [
    "import gdown\n",
    "url = 'https://drive.google.com/drive/folders/1EsDzDRCStrohb9V5avslHQXykQJBswo_?usp=drive_link'  # I'm showing a fake token\n",
    "gdown.download_folder(url,output=\"code/\")"
   ]
  },
  {
   "cell_type": "code",
   "execution_count": 4,
   "id": "27cc9452",
   "metadata": {},
   "outputs": [],
   "source": [
    "from credit.entity import DataIngestionConfig\n",
    "from credit.config import ConfigurationManager\n",
    "from credit.utils import read_yaml\n",
    "from credit.constants import *\n",
    "from pathlib import Path\n",
    "c=ConfigurationManager()\n",
    "data_ingestion_cfg=c.get_data_ingestion_config()"
   ]
  },
  {
   "cell_type": "code",
   "execution_count": null,
   "id": "c5cddcdc",
   "metadata": {},
   "outputs": [],
   "source": [
    "class DataIngestion:\n",
    "    def __init__(self,config:DataIngestionConfig):\n",
    "        self.config=config\n",
    "        self.cfg_y=read_yaml(CONFIG_FILEPATH)\n",
    "    \n",
    "    def __fetch_data_from_drive(self,url:str,raw_folder_path:Path):\n",
    "        gdown.download_folder(url,output=raw_folder_path)\n",
    "    \n",
    "    def get_data(self):\n",
    "        self.__fetch_data_from_drive(url=self.cfg_y.url,raw_folder_path=self.config.raw_folder_path)\n",
    "\n",
    "\n",
    "\n"
   ]
  },
  {
   "cell_type": "code",
   "execution_count": 1,
   "id": "e44e73f9",
   "metadata": {},
   "outputs": [],
   "source": [
    "from credit.components import DataIngestion\n",
    "from credit.config import ConfigurationManager\n",
    "def main():\n",
    "    config=ConfigurationManager()\n",
    "    data_ingestion_config=config.get_data_ingestion_config()\n",
    "    data_ingestion=DataIngestion(config=data_ingestion_config)\n",
    "    data_ingestion.get_data()"
   ]
  },
  {
   "cell_type": "code",
   "execution_count": 2,
   "id": "6e87447b",
   "metadata": {},
   "outputs": [
    {
     "name": "stdout",
     "output_type": "stream",
     "text": [
      "artifacts/data_ingestion\\2024-03-14-08-12-23\n"
     ]
    },
    {
     "name": "stderr",
     "output_type": "stream",
     "text": [
      "Retrieving folder contents\n"
     ]
    },
    {
     "name": "stdout",
     "output_type": "stream",
     "text": [
      "Processing file 1UQDDnCvnXAXEihnft8YDPrWOjC3d7sW4 test.csv\n",
      "Processing file 1eOx2VSgskbvDxtJ6kn8Kw2H8RqLLD-Nm train.csv\n"
     ]
    },
    {
     "name": "stderr",
     "output_type": "stream",
     "text": [
      "Retrieving folder contents completed\n",
      "Building directory structure\n",
      "Building directory structure completed\n",
      "Downloading...\n",
      "From: https://drive.google.com/uc?id=1UQDDnCvnXAXEihnft8YDPrWOjC3d7sW4\n",
      "To: e:\\YT\\CreditScore-English\\Credit-Score_Classification-End2End---English\\artifacts\\data_ingestion\\2024-03-14-08-12-23\\test.csv\n",
      "100%|██████████| 15.4M/15.4M [00:02<00:00, 6.56MB/s]\n",
      "Downloading...\n",
      "From: https://drive.google.com/uc?id=1eOx2VSgskbvDxtJ6kn8Kw2H8RqLLD-Nm\n",
      "To: e:\\YT\\CreditScore-English\\Credit-Score_Classification-End2End---English\\artifacts\\data_ingestion\\2024-03-14-08-12-23\\train.csv\n",
      "100%|██████████| 31.1M/31.1M [00:03<00:00, 8.99MB/s]\n",
      "Download completed\n"
     ]
    }
   ],
   "source": [
    "main()"
   ]
  },
  {
   "cell_type": "code",
   "execution_count": null,
   "id": "708acbe3",
   "metadata": {},
   "outputs": [],
   "source": []
  },
  {
   "cell_type": "code",
   "execution_count": 1,
   "id": "2ec4d36e",
   "metadata": {},
   "outputs": [],
   "source": [
    "from credit.constants import CONFIG_FILEPATH"
   ]
  },
  {
   "cell_type": "code",
   "execution_count": 4,
   "id": "f74507aa",
   "metadata": {},
   "outputs": [
    {
     "name": "stdout",
     "output_type": "stream",
     "text": [
      "{'artifacts-root': 'artifacts', 'data_ingestion': {'root_directory': 'artifacts/data_ingestion'}}\n"
     ]
    }
   ],
   "source": [
    "import yaml\n",
    "with open(CONFIG_FILEPATH, 'r') as f:\n",
    "    content=yaml.safe_load(f)\n",
    "    print(content)"
   ]
  },
  {
   "cell_type": "code",
   "execution_count": 31,
   "id": "d4d8ab6e",
   "metadata": {},
   "outputs": [],
   "source": [
    "#importing libraries\n",
    "import sys\n",
    "\n",
    "\n",
    "#defining a funtion that will return our custom exception\n",
    "def custom_error_msg_exception(error,error_details:sys):\n",
    "    _,_,tb=error_details.exc_info()\n",
    "    filename=tb.tb_frame.f_code.co_filename\n",
    "    error_msg=f\"Error has occured in the {filename} and line number is {tb.tb_lineno} and error is {error}\"\n",
    "    return error_msg\n",
    "\n",
    "\n",
    "#define the exception class\n",
    "class credits_exception(Exception):\n",
    "    def __init__(self,error_msg,error_details) -> None:\n",
    "        super().__init__(error_msg)\n",
    "        self.error_msg=custom_error_msg_exception(error_msg,error_details)\n",
    "\n",
    "    def __str__(self):\n",
    "        return self.error_msg\n",
    "\n",
    "   "
   ]
  },
  {
   "cell_type": "code",
   "execution_count": 54,
   "id": "3b20e0bd",
   "metadata": {},
   "outputs": [],
   "source": [
    "from pathlib import Path\n",
    "def read_yaml(yaml_file:Path):\n",
    "    try:\n",
    "        with open(yaml_file, 'r') as f:\n",
    "            content=yaml.safe_load(f)\n",
    "            return content\n",
    "    except Exception as e:\n",
    "        raise credits_exception(e,sys) from e"
   ]
  },
  {
   "cell_type": "code",
   "execution_count": 56,
   "id": "a39e25e4",
   "metadata": {},
   "outputs": [
    {
     "data": {
      "text/plain": [
       "{'artifacts-root': 'artifacts',\n",
       " 'data_ingestion': {'root_directory': 'data_ingestion'}}"
      ]
     },
     "execution_count": 56,
     "metadata": {},
     "output_type": "execute_result"
    }
   ],
   "source": [
    "read_yaml(CONFIG_FILEPATH)"
   ]
  },
  {
   "cell_type": "code",
   "execution_count": 48,
   "id": "594d2f04",
   "metadata": {},
   "outputs": [
    {
     "name": "stdout",
     "output_type": "stream",
     "text": [
      "E:\\YT\\CreditScore-English\\Credit-Score_Classification-End2End---English\\logs\\03_14_2024_07_00_19.log\n"
     ]
    }
   ],
   "source": [
    "import logging\n",
    "import os\n",
    "from datetime import datetime\n",
    "from from_root import from_root\n",
    "\n",
    "\n",
    "LOG_FILE = f\"{datetime.now().strftime('%m_%d_%Y_%H_%M_%S')}.log\"\n",
    "log_path=os.path.join(from_root(),\"logs\")\n",
    "\n",
    "os.makedirs(log_path,exist_ok=True)\n",
    "\n",
    "LOG_FILE_PATH= os.path.join(log_path,LOG_FILE)\n",
    "\n",
    "logging.basicConfig(\n",
    "    filename=LOG_FILE_PATH,\n",
    "    format= \"[ %(asctime)s ] %(name)s - %(levelname)s - %(message)s\",\n",
    "    level= logging.INFO\n",
    ")\n"
   ]
  },
  {
   "cell_type": "code",
   "execution_count": 47,
   "id": "e9de0b50",
   "metadata": {},
   "outputs": [
    {
     "name": "stdout",
     "output_type": "stream",
     "text": [
      "Collecting from_root\n",
      "  Downloading from_root-1.3.0-py3-none-any.whl.metadata (4.1 kB)\n",
      "Downloading from_root-1.3.0-py3-none-any.whl (5.5 kB)\n",
      "Installing collected packages: from_root\n",
      "Successfully installed from_root-1.3.0\n"
     ]
    }
   ],
   "source": [
    "!pip install from_root"
   ]
  },
  {
   "cell_type": "code",
   "execution_count": 49,
   "id": "5336a0c6",
   "metadata": {},
   "outputs": [],
   "source": [
    "from credit.logger import logging"
   ]
  },
  {
   "cell_type": "code",
   "execution_count": 50,
   "id": "f0f79c8c",
   "metadata": {},
   "outputs": [],
   "source": [
    "def create_directories(paths:list,verbose=True):\n",
    "    try:\n",
    "        base_paths=set()\n",
    "        for path in paths:\n",
    "            path=Path(path)\n",
    "            base_path=path.parent\n",
    "            if base_path not in base_paths:\n",
    "                os.makedirs(base_path,exist_ok=True)\n",
    "                base_paths.add(base_path)\n",
    "            os.makedirs(path,exist_ok=True)\n",
    "            if verbose:\n",
    "                logging.info(f\"Directory created at {path}\")\n",
    "    except Exception as e:\n",
    "        raise credits_exception(e,sys) from e"
   ]
  }
 ],
 "metadata": {
  "kernelspec": {
   "display_name": "Python 3 (ipykernel)",
   "language": "python",
   "name": "python3"
  },
  "language_info": {
   "codemirror_mode": {
    "name": "ipython",
    "version": 3
   },
   "file_extension": ".py",
   "mimetype": "text/x-python",
   "name": "python",
   "nbconvert_exporter": "python",
   "pygments_lexer": "ipython3",
   "version": "3.8.0"
  }
 },
 "nbformat": 4,
 "nbformat_minor": 5
}
